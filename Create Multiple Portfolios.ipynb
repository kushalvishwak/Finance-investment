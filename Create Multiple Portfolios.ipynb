{
 "cells": [
  {
   "cell_type": "code",
   "execution_count": 9,
   "metadata": {},
   "outputs": [],
   "source": [
    "from pandas_datareader import data as wb\n",
    "import datetime as dt\n",
    "#import fix_yahoo_finance as yf\n",
    "import numpy as np\n",
    "import pandas as pd"
   ]
  },
  {
   "cell_type": "code",
   "execution_count": 8,
   "metadata": {},
   "outputs": [
    {
     "name": "stdout",
     "output_type": "stream",
     "text": [
      "                  AAPL          T         JPM        WFC           V\n",
      "Date                                                                \n",
      "2017-01-03  116.150002  43.020000   87.230003  56.000000   79.500000\n",
      "2017-01-04  116.019997  42.770000   86.910004  56.049999   80.150002\n",
      "2017-01-05  116.610001  42.650002   86.110001  55.180000   81.089996\n",
      "2017-01-06  117.910004  41.320000   86.120003  55.040001   82.209999\n",
      "2017-01-09  118.989998  40.799999   86.180000  54.240002   81.750000\n",
      "2017-01-10  119.110001  40.810001   86.430000  54.619999   81.309998\n",
      "2017-01-11  119.750000  40.610001   87.080002  54.799999   81.800003\n",
      "2017-01-12  119.250000  41.009998   86.239998  54.500000   81.370003\n",
      "2017-01-13  119.040001  40.959999   86.699997  55.310001   81.169998\n",
      "2017-01-17  120.000000  41.110001   83.550003  53.779999   81.260002\n",
      "2017-01-18  119.989998  40.799999   83.940002  54.270000   81.589996\n",
      "2017-01-19  119.779999  41.000000   83.300003  54.580002   81.730003\n",
      "2017-01-20  120.000000  41.450001   83.669998  55.070000   81.839996\n",
      "2017-01-23  120.080002  42.000000   83.709999  54.250000   82.150002\n",
      "2017-01-24  119.970001  41.360001   84.720001  54.700001   83.230003\n",
      "2017-01-25  121.879997  41.389999   86.029999  56.619999   83.900002\n",
      "2017-01-26  121.940002  41.770000   86.750000  57.180000   83.239998\n",
      "2017-01-27  121.949997  42.009998   86.930000  56.590000   83.769997\n",
      "2017-01-30  121.629997  41.820000   86.029999  56.080002   83.699997\n",
      "2017-01-31  121.349998  42.160000   84.629997  56.330002   82.709999\n",
      "2017-02-01  128.750000  42.060001   84.949997  55.910000   82.440002\n",
      "2017-02-02  128.529999  41.180000   84.589996  55.750000   82.300003\n",
      "2017-02-03  129.080002  41.250000   87.180000  57.270000   86.080002\n",
      "2017-02-06  130.289993  41.060001   86.769997  56.549999   85.830002\n",
      "2017-02-07  131.529999  41.119999   86.720001  56.340000   85.779999\n",
      "2017-02-08  132.039993  41.209999   85.959999  55.630001   85.089996\n",
      "2017-02-09  132.419998  41.310001   87.199997  56.730000   85.580002\n",
      "2017-02-10  132.119995  41.380001   87.000000  56.860001   85.900002\n",
      "2017-02-13  133.289993  40.650002   88.150002  57.080002   86.440002\n",
      "2017-02-14  135.020004  40.750000   89.559998  57.980000   86.849998\n",
      "...                ...        ...         ...        ...         ...\n",
      "2020-02-28  273.359985  35.220001  116.110001  40.849998  181.759995\n",
      "2020-03-02  298.809998  37.180000  121.519997  42.259998  192.330002\n",
      "2020-03-03  289.320007  36.299999  116.959999  40.529999  185.729996\n",
      "2020-03-04  302.739990  38.180000  119.849998  41.400002  194.289993\n",
      "2020-03-05  292.920013  37.180000  113.970001  38.900002  186.960007\n",
      "2020-03-06  289.029999  37.029999  108.080002  37.090000  184.360001\n",
      "2020-03-09  266.170013  34.689999   93.440002  32.480000  171.130005\n",
      "2020-03-10  285.339996  35.849998  100.699997  35.080002  182.600006\n",
      "2020-03-11  275.429993  34.520000   95.959999  32.330002  172.949997\n",
      "2020-03-12  248.229996  31.330000   88.050003  27.200001  160.080002\n",
      "2020-03-13  277.970001  34.470001  103.910004  30.889999  175.830002\n",
      "2020-03-16  242.210007  31.809999   88.360001  26.500000  152.009995\n",
      "2020-03-17  252.860001  33.740002   93.760002  29.629999  157.889999\n",
      "2020-03-18  246.669998  32.849998   83.889999  28.120001  148.479996\n",
      "2020-03-19  244.779999  31.150000   85.300003  28.290001  152.250000\n",
      "2020-03-20  229.240005  28.450001   83.500000  26.500000  146.830002\n",
      "2020-03-23  224.369995  26.770000   79.029999  25.250000  135.740005\n",
      "2020-03-24  246.880005  28.090000   88.430000  28.920000  154.529999\n",
      "2020-03-25  245.520004  28.400000   91.730003  28.969999  161.779999\n",
      "2020-03-26  258.440002  30.600000   98.120003  30.900000  168.880005\n",
      "2020-03-27  247.740005  29.840000   91.129997  30.280001  161.559998\n",
      "2020-03-30  254.809998  30.230000   93.500000  29.920000  165.570007\n",
      "2020-03-31  254.289993  29.150000   90.029999  28.700001  161.119995\n",
      "2020-04-01  240.910004  28.049999   84.360001  26.570000  153.110001\n",
      "2020-04-02  244.929993  28.760000   87.510002  27.219999  157.389999\n",
      "2020-04-03  241.410004  27.459999   84.050003  26.230000  151.850006\n",
      "2020-04-06  262.470001  29.440001   89.459999  28.629999  169.440002\n",
      "2020-04-07  259.429993  30.080000   90.639999  28.770000  168.589996\n",
      "2020-04-08  266.070007  29.889999   94.300003  30.280001  174.940002\n",
      "2020-04-09  267.989990  30.730000  102.760002  33.200001  173.690002\n",
      "\n",
      "[823 rows x 5 columns]\n"
     ]
    }
   ],
   "source": [
    "#Create Multiple Portfolios\n",
    "tickers = [\"AAPL\", \"T\", \"JPM\", \"WFC\", \"V\"]\n",
    "data = pd.DataFrame()\n",
    "\n",
    "for k in tickers:\n",
    "    data[k] = wb.DataReader( k , data_source= \"yahoo\" , start=\"2017-01-01\", end=dt.date.today())['Close']\n",
    "print(data)"
   ]
  },
  {
   "cell_type": "code",
   "execution_count": 10,
   "metadata": {},
   "outputs": [],
   "source": [
    "#Weights in each stock\n",
    "weights = np.array([.2, .2, .2, .2, .2])\n",
    " \n",
    "#initial investment\n",
    "initial_investment = 100000"
   ]
  },
  {
   "cell_type": "code",
   "execution_count": 12,
   "metadata": {},
   "outputs": [],
   "source": [
    "#Override API\n",
    "# yf.pdr_override() \n",
    " \n",
    "# download Data\n",
    "# data = pdr.get_data_yahoo(tickers, start=\"2017-01-01\", end=dt.date.today())['Close']"
   ]
  },
  {
   "cell_type": "code",
   "execution_count": 13,
   "metadata": {},
   "outputs": [],
   "source": [
    "#Calculate periodic returns\n",
    "returns = data.pct_change()\n",
    " \n",
    "#Generate Var-Cov matrix\n",
    "cov_matrix = returns.cov()"
   ]
  },
  {
   "cell_type": "code",
   "execution_count": 15,
   "metadata": {},
   "outputs": [
    {
     "data": {
      "text/plain": [
       "AAPL    0.001201\n",
       "T      -0.000284\n",
       "JPM     0.000373\n",
       "WFC    -0.000442\n",
       "V       0.001096\n",
       "dtype: float64"
      ]
     },
     "execution_count": 15,
     "metadata": {},
     "output_type": "execute_result"
    }
   ],
   "source": [
    "#Calculate mean returns for each stock\n",
    "avg_rets = returns.mean()\n",
    "avg_rets"
   ]
  },
  {
   "cell_type": "code",
   "execution_count": 16,
   "metadata": {},
   "outputs": [
    {
     "data": {
      "text/plain": [
       "0.0003887530892081647"
      ]
     },
     "execution_count": 16,
     "metadata": {},
     "output_type": "execute_result"
    }
   ],
   "source": [
    "#Calculate Portfolio Mean\n",
    "port_mean = avg_rets.dot(weights)\n",
    "port_mean"
   ]
  },
  {
   "cell_type": "code",
   "execution_count": 17,
   "metadata": {},
   "outputs": [
    {
     "data": {
      "text/plain": [
       "0.0150865339152086"
      ]
     },
     "execution_count": 17,
     "metadata": {},
     "output_type": "execute_result"
    }
   ],
   "source": [
    "#Calculate Portfolio STDEV\n",
    "port_stdev = np.sqrt(weights.T.dot(cov_matrix).dot(weights))\n",
    "port_stdev\n",
    " "
   ]
  },
  {
   "cell_type": "code",
   "execution_count": 18,
   "metadata": {},
   "outputs": [
    {
     "data": {
      "text/plain": [
       "100038.87530892082"
      ]
     },
     "execution_count": 18,
     "metadata": {},
     "output_type": "execute_result"
    }
   ],
   "source": [
    "#Mean Investment\n",
    "mean_investment = (1+port_mean) * initial_investment\n",
    "mean_investment"
   ]
  },
  {
   "cell_type": "code",
   "execution_count": 19,
   "metadata": {},
   "outputs": [
    {
     "data": {
      "text/plain": [
       "1508.6533915208602"
      ]
     },
     "execution_count": 19,
     "metadata": {},
     "output_type": "execute_result"
    }
   ],
   "source": [
    "#Standard Deviation Investment\n",
    "stdev_investment = initial_investment * port_stdev\n",
    "stdev_investment"
   ]
  },
  {
   "cell_type": "code",
   "execution_count": 20,
   "metadata": {},
   "outputs": [],
   "source": [
    "#Cutoff Point \n",
    "conf_level0 = 0.001\n",
    "conf_level1 = 0.01\n",
    "conf_level2 = 0.05"
   ]
  },
  {
   "cell_type": "code",
   "execution_count": 22,
   "metadata": {},
   "outputs": [],
   "source": [
    "from scipy.stats import norm"
   ]
  },
  {
   "cell_type": "code",
   "execution_count": 21,
   "metadata": {},
   "outputs": [],
   "source": [
    "cutoff0 = norm.ppf(conf_level0, mean_investment, stdev_investment)\n",
    "cutoff1 = norm.ppf(conf_level1, mean_investment, stdev_investment)\n",
    "cutoff2 = norm.ppf(conf_level2, mean_investment, stdev_investment)"
   ]
  },
  {
   "cell_type": "code",
   "execution_count": 23,
   "metadata": {},
   "outputs": [],
   "source": [
    "#Calculate PDF (If Desired)\n",
    "#print(norm.cdf(cutoff0, mean_investment, stdev_investment))\n",
    " \n",
    "#Calculate 1 Day VaR at different confidence intervals \n",
    "var_1d0 = initial_investment - cutoff0\n",
    "var_1d1 = initial_investment - cutoff1\n",
    "var_1d2 = initial_investment - cutoff2"
   ]
  },
  {
   "cell_type": "markdown",
   "metadata": {},
   "source": [
    "#-------------------------Optional--------------------------#"
   ]
  },
  {
   "cell_type": "code",
   "execution_count": 32,
   "metadata": {},
   "outputs": [
    {
     "name": "stdout",
     "output_type": "stream",
     "text": [
      "1 day VaR at 99.99% confidence level: 4623.21\n",
      "2 day VaR at 99.99% confidence level: 6538.21\n",
      "3 day VaR at 99.99% confidence level: 8007.64\n",
      "4 day VaR at 99.99% confidence level: 9246.43\n",
      "5 day VaR at 99.99% confidence level: 10337.82\n",
      "6 day VaR at 99.99% confidence level: 11324.52\n",
      "7 day VaR at 99.99% confidence level: 12231.87\n",
      "8 day VaR at 99.99% confidence level: 13076.42\n",
      "9 day VaR at 99.99% confidence level: 13869.64\n",
      "10 day VaR at 99.99% confidence level: 14619.89\n",
      "11 day VaR at 99.99% confidence level: 15333.47\n",
      "12 day VaR at 99.99% confidence level: 16015.28\n",
      "13 day VaR at 99.99% confidence level: 16669.24\n",
      "14 day VaR at 99.99% confidence level: 17298.48\n",
      "15 day VaR at 99.99% confidence level: 17905.63\n",
      "16 day VaR at 99.99% confidence level: 18492.86\n",
      "17 day VaR at 99.99% confidence level: 19062.0\n",
      "18 day VaR at 99.99% confidence level: 19614.64\n",
      "19 day VaR at 99.99% confidence level: 20152.12\n",
      "20 day VaR at 99.99% confidence level: 20675.64\n",
      "21 day VaR at 99.99% confidence level: 21186.23\n",
      "22 day VaR at 99.99% confidence level: 21684.8\n",
      "23 day VaR at 99.99% confidence level: 22172.16\n",
      "24 day VaR at 99.99% confidence level: 22649.03\n",
      "25 day VaR at 99.99% confidence level: 23116.07\n",
      "26 day VaR at 99.99% confidence level: 23573.86\n",
      "27 day VaR at 99.99% confidence level: 24022.93\n",
      "28 day VaR at 99.99% confidence level: 24463.75\n",
      "29 day VaR at 99.99% confidence level: 24896.77\n",
      "30 day VaR at 99.99% confidence level: 25322.39\n",
      "31 day VaR at 99.99% confidence level: 25740.97\n",
      "32 day VaR at 99.99% confidence level: 26152.85\n",
      "33 day VaR at 99.99% confidence level: 26558.34\n",
      "34 day VaR at 99.99% confidence level: 26957.74\n",
      "35 day VaR at 99.99% confidence level: 27351.3\n",
      "36 day VaR at 99.99% confidence level: 27739.28\n",
      "37 day VaR at 99.99% confidence level: 28121.91\n",
      "38 day VaR at 99.99% confidence level: 28499.41\n",
      "39 day VaR at 99.99% confidence level: 28871.96\n",
      "40 day VaR at 99.99% confidence level: 29239.77\n",
      "41 day VaR at 99.99% confidence level: 29603.01\n",
      "42 day VaR at 99.99% confidence level: 29961.85\n",
      "43 day VaR at 99.99% confidence level: 30316.44\n",
      "44 day VaR at 99.99% confidence level: 30666.93\n",
      "45 day VaR at 99.99% confidence level: 31013.46\n",
      "46 day VaR at 99.99% confidence level: 31356.16\n",
      "47 day VaR at 99.99% confidence level: 31695.16\n",
      "48 day VaR at 99.99% confidence level: 32030.57\n",
      "49 day VaR at 99.99% confidence level: 32362.5\n",
      "50 day VaR at 99.99% confidence level: 32691.06\n",
      "51 day VaR at 99.99% confidence level: 33016.35\n",
      "52 day VaR at 99.99% confidence level: 33338.47\n",
      "53 day VaR at 99.99% confidence level: 33657.51\n",
      "54 day VaR at 99.99% confidence level: 33973.55\n",
      "55 day VaR at 99.99% confidence level: 34286.67\n",
      "56 day VaR at 99.99% confidence level: 34596.97\n",
      "57 day VaR at 99.99% confidence level: 34904.5\n",
      "58 day VaR at 99.99% confidence level: 35209.35\n",
      "59 day VaR at 99.99% confidence level: 35511.58\n",
      "60 day VaR at 99.99% confidence level: 35811.26\n",
      "61 day VaR at 99.99% confidence level: 36108.46\n",
      "62 day VaR at 99.99% confidence level: 36403.22\n",
      "63 day VaR at 99.99% confidence level: 36695.62\n",
      "64 day VaR at 99.99% confidence level: 36985.71\n",
      "65 day VaR at 99.99% confidence level: 37273.54\n",
      "66 day VaR at 99.99% confidence level: 37559.17\n",
      "67 day VaR at 99.99% confidence level: 37842.64\n",
      "68 day VaR at 99.99% confidence level: 38124.0\n",
      "69 day VaR at 99.99% confidence level: 38403.3\n",
      "70 day VaR at 99.99% confidence level: 38680.58\n",
      "71 day VaR at 99.99% confidence level: 38955.89\n",
      "72 day VaR at 99.99% confidence level: 39229.27\n",
      "73 day VaR at 99.99% confidence level: 39500.76\n",
      "74 day VaR at 99.99% confidence level: 39770.39\n",
      "75 day VaR at 99.99% confidence level: 40038.21\n",
      "76 day VaR at 99.99% confidence level: 40304.25\n",
      "77 day VaR at 99.99% confidence level: 40568.54\n",
      "78 day VaR at 99.99% confidence level: 40831.12\n",
      "79 day VaR at 99.99% confidence level: 41092.03\n",
      "80 day VaR at 99.99% confidence level: 41351.28\n",
      "81 day VaR at 99.99% confidence level: 41608.93\n",
      "82 day VaR at 99.99% confidence level: 41864.98\n",
      "83 day VaR at 99.99% confidence level: 42119.49\n",
      "84 day VaR at 99.99% confidence level: 42372.46\n",
      "85 day VaR at 99.99% confidence level: 42623.93\n",
      "86 day VaR at 99.99% confidence level: 42873.92\n",
      "87 day VaR at 99.99% confidence level: 43122.47\n",
      "88 day VaR at 99.99% confidence level: 43369.59\n",
      "89 day VaR at 99.99% confidence level: 43615.31\n",
      "90 day VaR at 99.99% confidence level: 43859.66\n",
      "91 day VaR at 99.99% confidence level: 44102.65\n",
      "92 day VaR at 99.99% confidence level: 44344.31\n",
      "93 day VaR at 99.99% confidence level: 44584.66\n",
      "94 day VaR at 99.99% confidence level: 44823.72\n",
      "95 day VaR at 99.99% confidence level: 45061.52\n",
      "96 day VaR at 99.99% confidence level: 45298.06\n",
      "97 day VaR at 99.99% confidence level: 45533.38\n",
      "98 day VaR at 99.99% confidence level: 45767.48\n",
      "99 day VaR at 99.99% confidence level: 46000.4\n"
     ]
    }
   ],
   "source": [
    "#Calculate n Day VaR in loop\n",
    "num_days = 100\n",
    "df = pd.DataFrame()\n",
    "for x in range(1, num_days):    \n",
    "    z = (str(x) + \" day VaR at 99.99% confidence level: \" + str(np.round(var_1d0 * np.sqrt(x),2)))\n",
    "    print(z)"
   ]
  },
  {
   "cell_type": "code",
   "execution_count": 34,
   "metadata": {},
   "outputs": [
    {
     "data": {
      "text/html": [
       "<div>\n",
       "<style scoped>\n",
       "    .dataframe tbody tr th:only-of-type {\n",
       "        vertical-align: middle;\n",
       "    }\n",
       "\n",
       "    .dataframe tbody tr th {\n",
       "        vertical-align: top;\n",
       "    }\n",
       "\n",
       "    .dataframe thead th {\n",
       "        text-align: right;\n",
       "    }\n",
       "</style>\n",
       "<table border=\"1\" class=\"dataframe\">\n",
       "  <thead>\n",
       "    <tr style=\"text-align: right;\">\n",
       "      <th></th>\n",
       "      <th>99.99%</th>\n",
       "      <th>99%</th>\n",
       "      <th>95%</th>\n",
       "    </tr>\n",
       "  </thead>\n",
       "  <tbody>\n",
       "    <tr>\n",
       "      <th>0</th>\n",
       "      <td>4623.21</td>\n",
       "      <td>3470.78</td>\n",
       "      <td>2442.64</td>\n",
       "    </tr>\n",
       "  </tbody>\n",
       "</table>\n",
       "</div>"
      ],
      "text/plain": [
       "    99.99%      99%      95%\n",
       "0  4623.21  3470.78  2442.64"
      ]
     },
     "execution_count": 34,
     "metadata": {},
     "output_type": "execute_result"
    }
   ],
   "source": [
    "#Plot Results On Bar Chart\n",
    "import matplotlib.pyplot as plt\n",
    "import pandas as pd\n",
    " \n",
    "data = {'99.99%': np.round(var_1d0,2), '99%': np.round(var_1d1, 2), '95%': np.round(var_1d2, 2)}\n",
    "df = pd.DataFrame(data,index=[0]) \n",
    "df"
   ]
  },
  {
   "cell_type": "markdown",
   "metadata": {},
   "source": [
    "## VaR - Value at Risk"
   ]
  },
  {
   "cell_type": "code",
   "execution_count": 35,
   "metadata": {},
   "outputs": [
    {
     "data": {
      "image/png": "[encoded data removed]",
      "text/plain": [
       "<Figure size 432x288 with 1 Axes>"
      ]
     },
     "metadata": {
      "needs_background": "light"
     },
     "output_type": "display_data"
    }
   ],
   "source": [
    "df.plot(kind = 'bar')\n",
    "plt.suptitle('Portfolio VaR', fontsize=20)\n",
    "plt.ylabel('VaR ($)', fontsize=16)\n",
    "plt.show()        "
   ]
  },
  {
   "cell_type": "code",
   "execution_count": null,
   "metadata": {},
   "outputs": [],
   "source": []
  }
 ],
 "metadata": {
  "kernelspec": {
   "display_name": "Python 3",
   "language": "python",
   "name": "python3"
  },
  "language_info": {
   "codemirror_mode": {
    "name": "ipython",
    "version": 3
   },
   "file_extension": ".py",
   "mimetype": "text/x-python",
   "name": "python",
   "nbconvert_exporter": "python",
   "pygments_lexer": "ipython3",
   "version": "3.7.3"
  }
 },
 "nbformat": 4,
 "nbformat_minor": 2
}
